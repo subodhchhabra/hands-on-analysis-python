{
 "cells": [
  {
   "cell_type": "markdown",
   "metadata": {},
   "source": [
    "# Scikit-learn\n",
    "\n",
    "(If you're using the code files, please open scikit_learn_lessons.py)\n",
    "\n",
    "## A brief intro to machine learning\n",
    "\n",
    "There's a fair bit of backround knowledge that's important to know before we dive into the code. The actual code is rather simple, but I want you to understand exactly what's going on.\n",
    "\n",
    "### What is machine learning?\n",
    "\n",
    "Machine learning is the study and application of algorithms that learn from examples. It's concerned with constructing systems that learn from data, systems that can then make future predictions based on past input. It's based on the ideas of representation and generalization: the representation of relationships within the data, and the ability to generalize those relationships to new data. This means that we can create a model that will learn something from the data that we have, and then apply what it learns to data that it hasn't seen before. Machine learning provides a way to build executable data summaries; it helps us build better software by predicting more accurately on future inputs.\n",
    "\n",
    "### Why is it useful?\n",
    "\n",
    "This is an important topic because machine learning is everywhere. For example, your email spam filter is already trained to mark certain emails as spam, based on things like frequency of capital letters or number of suspicious links within an email. If a spam email does get through to your inbox and you manually mark it as spam, your spam filter learns from that input, and will mark similar emails as spam in the future. Another example is Netflix's recommender system. The more movies you rate on Netflix, the more that the recommender system learns what kind of movies you like to watch. The system will then get better at recommending to you appropriate movie choices. Machine learning is especially useful in data analysis.\n",
    "\n",
    "### Some terms\n",
    "\n",
    "- observation/instance/data point: these all mean the same thing, and that is one particular piece of the data that we can grab information about and learn relationships from.\n",
    "- label/class: in classification, the label/class is what we aim to classify our new data as. Ex: email as spam or not spam.\n",
    "- feature: features describe the data. Features of email spam could be number of capital letter or frequency of known spam words.\n",
    "- categorical: discrete and finite data; has categories. Ex. spam or not spam.\n",
    "- continuous: subset of real numbers, can take on any value between two points. Ex. temperature degrees.\n",
    "\n",
    "### Types of machine learning\n",
    "\n",
    "#### Supervised\n",
    "Supervised learning is machine learning that makes use of labeled data. Supervised learning algorithms can use past observations to make future predictions on both categorical and continuous data. The two main types of supervised learning are classification and regression. Classification predicts labels, such as spam or not spam. Regression predicts the relationship between continuous variables, such as the relationship between temperature and elevation.\n",
    "\n",
    "#### Unsupervised\n",
    "Unsupervised learning is used when the data is unlabeled. You might not know what you're looking for within your data, and unsupervised learning can help you figure it out. Clustering is an example of unsupervised learning, where data instances are grouped together in a way that observations in the same group are more similar to each other than to those in other groups. Another example is dimensionality reduction, where the number of random variables is reduced, and is used for both feature selection and feature extraction.\n",
    "\n",
    "## What is scikit-learn?\n",
    "Scikit-learn is an open-source machine learning module. The scikit-learn project is constantly being developed and improved, and it has a very active user community. The documentation on the website is very thorough with plenty of examples, and there are a number of tutorials and guides for learning how scikit-learn works.\n",
    "\n",
    "### Why scikit-learn?\n",
    "You might be wondering why you'd want to use Python and scikit-learn, rather than other popular tools like MATLAB or R. Because scikit-learn is open source, it's free to use! Also, it's currently the most comprehensive machine learning tool for Python. There are also a number of Python libraries that work well with scikit-learn and extend its capabilities. \n",
    "\n",
    "## About this section\n",
    "We're going to cover supervised learning due to time constraints. We'll talk about a few classifiers as well as linear regression. For the final lesson of this section, we'll use the three classifiers we learn about, k-nearest neighbor, decision trees, and the Naive Bayes classifier, on our census_data dataset. We'll then compare the classifiers and see which one is better for our data.\n",
    "\n",
    "## Let's start with classification\n",
    "Classification, again, classifies data into specific categories, and solves the task of figuring out which category new data belong to. There are many different kinds of classifiers, and which one you want to use depends on your data. We're only going to be covering k-Nearest Neighbors (kNN) and the Naive Bayes classifier (NB) because they're among the simplest to implement and understand.\n",
    "\n",
    "For both algorithms, I'll walk you through simple examples of each, so that you'll have an idea of how they work. I'll also show you how to evaluate the models we create.\n",
    "\n",
    "Something important to notice in my examples is that when we train, we use a different dataset than when we predict. This is to avoid the problem of overfitting. So, what's overfitting? Well, let's say we train our model on the entire dataset. If we want to also test with that dataset, we won't be able to get an accurate picture of how good our model is, because now it knows our entire dataset by heart. This is why we split up our sets.\n",
    "\n",
    "## k-Nearest Neighbors\n",
    "\n",
    "The k-Nearest Neighbors (kNN) algorithm finds a predetermined number of \"neighbor\" samples that are closest in distance to a starting data point and makes predictions based on the distances. kNN predicts labels by looking at the labels of its nearest neighbors. The metric used to calcuate the distances between points can be any distance metric measure, such as the Euclidean metric or the Manhattan distance.\n",
    "\n",
    "kNN is useful when your data is linear in nature and can therefore be measured with a distance metric. Also, kNN does well when the decision boundary (or the delineation between classes) is hard to identify. \n",
    "\n",
    "kNN comes with a couple of caveats. If the classes in your dataset are unevenly distributed, the highest-occuring label will tend to dominate predictions. Also, choosing the *k* of kNN can be tricky. Choosing *k* deserves its own three hour tutorial, so we'll just go with the defaults for today.\n",
    "\n",
    "### Classifying in scikit-learn: kNN\n",
    "\n",
    "As we go through these examples, you'll notice that the basic fitting and predicting process is basically the same, which is one of the things that makes scikit-learn relatively easy to use.\n",
    "\n",
    "Let's start by reading in some data and its labels, and then split it up so we don't overfit. The default split for the `train_test_split()` function is 0.25, meaning that 75% of the data is split into the training set and %25 is split into the test set. If you want a different split, that's something that can be changed."
   ]
  },
  {
   "cell_type": "code",
   "execution_count": 10,
   "metadata": {
    "collapsed": false
   },
   "outputs": [],
   "source": [
    "import pandas as pd\n",
    "from sklearn.cross_validation import train_test_split\n",
    "\n",
    "wine_data = pd.read_csv('../data/wine_data.csv')\n",
    "wine_labels = pd.read_csv('../data/wine_labels.csv', squeeze=True)\n",
    "\n",
    "wine_data_train, wine_data_test, wine_labels_train, wine_labels_test = train_test_split(wine_data, wine_labels)"
   ]
  },
  {
   "cell_type": "markdown",
   "metadata": {},
   "source": [
    "Scikit-learn can actually understand `DataFrames`, and can use them as input. Here's what one row from `wine_data_train` looks like, which is a `DataFrame`."
   ]
  },
  {
   "cell_type": "code",
   "execution_count": 17,
   "metadata": {
    "collapsed": false
   },
   "outputs": [
    {
     "data": {
      "text/html": [
       "<div style=\"max-height:1000px;max-width:1500px;overflow:auto;\">\n",
       "<table border=\"1\" class=\"dataframe\">\n",
       "  <thead>\n",
       "    <tr style=\"text-align: right;\">\n",
       "      <th></th>\n",
       "      <th>abv</th>\n",
       "      <th>malic_acid</th>\n",
       "      <th>ash</th>\n",
       "      <th>alcalinity</th>\n",
       "      <th>magnesium</th>\n",
       "      <th>total_phenols</th>\n",
       "      <th>flavanoids</th>\n",
       "      <th>nonflavanoid_phenols</th>\n",
       "      <th>proanthocyacins</th>\n",
       "      <th>color</th>\n",
       "      <th>hue</th>\n",
       "      <th>dilution</th>\n",
       "      <th>proline</th>\n",
       "    </tr>\n",
       "  </thead>\n",
       "  <tbody>\n",
       "    <tr>\n",
       "      <th>153</th>\n",
       "      <td>13.23</td>\n",
       "      <td>3.3</td>\n",
       "      <td>2.28</td>\n",
       "      <td>18.5</td>\n",
       "      <td>98</td>\n",
       "      <td>1.8</td>\n",
       "      <td>0.83</td>\n",
       "      <td>0.61</td>\n",
       "      <td>1.87</td>\n",
       "      <td>10.52</td>\n",
       "      <td>0.56</td>\n",
       "      <td>1.51</td>\n",
       "      <td>675</td>\n",
       "    </tr>\n",
       "  </tbody>\n",
       "</table>\n",
       "</div>"
      ],
      "text/plain": [
       "       abv  malic_acid   ash  alcalinity  magnesium  total_phenols  \\\n",
       "153  13.23         3.3  2.28        18.5         98            1.8   \n",
       "\n",
       "     flavanoids  nonflavanoid_phenols  proanthocyacins  color   hue  dilution  \\\n",
       "153        0.83                  0.61             1.87  10.52  0.56      1.51   \n",
       "\n",
       "     proline  \n",
       "153      675  "
      ]
     },
     "execution_count": 17,
     "metadata": {},
     "output_type": "execute_result"
    }
   ],
   "source": [
    "wine_data_train[:1]"
   ]
  },
  {
   "cell_type": "markdown",
   "metadata": {},
   "source": [
    "Let's compare the lengths of the original `DataFrame` and the training set."
   ]
  },
  {
   "cell_type": "code",
   "execution_count": 18,
   "metadata": {
    "collapsed": false
   },
   "outputs": [
    {
     "name": "stdout",
     "output_type": "stream",
     "text": [
      "178 133\n"
     ]
    }
   ],
   "source": [
    "print len(wine_data), len(wine_data_train)"
   ]
  },
  {
   "cell_type": "markdown",
   "metadata": {},
   "source": [
    "Now we can fit kNN to our training data. This is pretty easy. We create our estimator object and then use the fit() function to fit the algorithm to our data."
   ]
  },
  {
   "cell_type": "code",
   "execution_count": 19,
   "metadata": {
    "collapsed": false
   },
   "outputs": [
    {
     "data": {
      "text/plain": [
       "KNeighborsClassifier(algorithm='auto', leaf_size=30, metric='minkowski',\n",
       "           metric_params=None, n_neighbors=5, p=2, weights='uniform')"
      ]
     },
     "execution_count": 19,
     "metadata": {},
     "output_type": "execute_result"
    }
   ],
   "source": [
    "from sklearn.neighbors import KNeighborsClassifier\n",
    "\n",
    "knn = KNeighborsClassifier()\n",
    "knn.fit(wine_data_train, wine_labels_train)"
   ]
  },
  {
   "cell_type": "markdown",
   "metadata": {},
   "source": [
    "And finally, let's use our fitted model to predict on new data."
   ]
  },
  {
   "cell_type": "code",
   "execution_count": 20,
   "metadata": {
    "collapsed": false
   },
   "outputs": [
    {
     "data": {
      "text/plain": [
       "array([1, 1, 1, 3, 2, 2, 3, 3, 1, 3, 1, 1, 1, 3, 2, 1, 2, 1, 2, 1, 2, 1, 1,\n",
       "       2, 2, 3, 1, 3, 2, 3, 2, 1, 2, 1, 3, 1, 3, 1, 1, 3, 1, 3, 1, 2, 3])"
      ]
     },
     "execution_count": 20,
     "metadata": {},
     "output_type": "execute_result"
    }
   ],
   "source": [
    "knn.predict(wine_data_test)"
   ]
  },
  {
   "cell_type": "markdown",
   "metadata": {},
   "source": [
    "Let's look at the real labels."
   ]
  },
  {
   "cell_type": "code",
   "execution_count": 21,
   "metadata": {
    "collapsed": false
   },
   "outputs": [
    {
     "data": {
      "text/plain": [
       "78     2\n",
       "2      1\n",
       "7      1\n",
       "112    2\n",
       "97     2\n",
       "136    3\n",
       "96     2\n",
       "172    3\n",
       "56     1\n",
       "110    2\n",
       "35     1\n",
       "57     1\n",
       "26     1\n",
       "129    2\n",
       "146    3\n",
       "34     1\n",
       "159    3\n",
       "3      1\n",
       "126    2\n",
       "11     1\n",
       "115    2\n",
       "48     1\n",
       "53     1\n",
       "151    3\n",
       "88     2\n",
       "168    3\n",
       "14     1\n",
       "43     1\n",
       "108    2\n",
       "60     2\n",
       "173    3\n",
       "10     1\n",
       "82     2\n",
       "32     1\n",
       "134    3\n",
       "68     2\n",
       "138    3\n",
       "9      1\n",
       "21     1\n",
       "19     1\n",
       "52     1\n",
       "163    3\n",
       "40     1\n",
       "90     2\n",
       "87     2\n",
       "Name: wine_type, dtype: int64"
      ]
     },
     "execution_count": 21,
     "metadata": {},
     "output_type": "execute_result"
    }
   ],
   "source": [
    "wine_labels_test"
   ]
  },
  {
   "cell_type": "markdown",
   "metadata": {},
   "source": [
    "You can see that there are some differences between the predictions and the actual labels. Let's actually calculate how accurate our classifier is. We can do that using cross-validation. Cross-validation is a method that takes a dataset, randomly splits it into training and test sets, and computes how accurate the model is by checking it against the real labels. It does this multiple times, and splits the dataset differently each time. \n",
    "\n",
    "The `cross_val_score()` function takes several parameters. The first is the model you've fitted (in this case it's knn), the second is the entire dataset, the second is the entire list of labels, and if you'd like you can specify how many times you want to cross-validate (the cv parameter)."
   ]
  },
  {
   "cell_type": "code",
   "execution_count": 22,
   "metadata": {
    "collapsed": false
   },
   "outputs": [
    {
     "data": {
      "text/plain": [
       "array([ 0.7027027 ,  0.66666667,  0.63888889,  0.65714286,  0.76470588])"
      ]
     },
     "execution_count": 22,
     "metadata": {},
     "output_type": "execute_result"
    }
   ],
   "source": [
    "from sklearn.cross_validation import cross_val_score\n",
    "\n",
    "cross_val_score(knn, wine_data, wine_labels, cv=5)"
   ]
  },
  {
   "cell_type": "markdown",
   "metadata": {},
   "source": [
    "So our model is approximately 70% accurate. That's not so great, but you get the idea."
   ]
  },
  {
   "cell_type": "markdown",
   "metadata": {},
   "source": [
    "## Lesson: classification with kNN!"
   ]
  },
  {
   "cell_type": "code",
   "execution_count": 23,
   "metadata": {
    "collapsed": false
   },
   "outputs": [],
   "source": [
    "# We're going to be using scikit-learn's built in datasets for this.\n",
    "\n",
    "from sklearn.datasets import load_iris\n",
    "\n",
    "iris = load_iris()\n",
    "iris_data = iris.data\n",
    "iris_labels = iris.target\n",
    "\n",
    "# Can you split the data into training and test sets?\n",
    "\n",
    "iris_data_train, iris_data_test, iris_labels_train, iris_labels_test = train_test_split(iris_data, iris_labels)"
   ]
  },
  {
   "cell_type": "code",
   "execution_count": 24,
   "metadata": {
    "collapsed": false
   },
   "outputs": [
    {
     "data": {
      "text/plain": [
       "KNeighborsClassifier(algorithm='auto', leaf_size=30, metric='minkowski',\n",
       "           metric_params=None, n_neighbors=5, p=2, weights='uniform')"
      ]
     },
     "execution_count": 24,
     "metadata": {},
     "output_type": "execute_result"
    }
   ],
   "source": [
    "# Now, let's use the training data and labels to train our model.\n",
    "\n",
    "knn_iris = KNeighborsClassifier()\n",
    "knn_iris.fit(iris_data_train, iris_labels_train)"
   ]
  },
  {
   "cell_type": "code",
   "execution_count": 25,
   "metadata": {
    "collapsed": false
   },
   "outputs": [
    {
     "data": {
      "text/plain": [
       "array([2, 1, 1, 0, 0, 1, 1, 0, 0, 0, 2, 0, 2, 2, 2, 2, 1, 1, 2, 1, 2, 1, 1,\n",
       "       0, 2, 2, 1, 0, 0, 2, 1, 1, 2, 1, 0, 0, 2, 2])"
      ]
     },
     "execution_count": 25,
     "metadata": {},
     "output_type": "execute_result"
    }
   ],
   "source": [
    "# And now, let's predict on our test set.\n",
    "\n",
    "knn_iris.predict(iris_data_test)"
   ]
  },
  {
   "cell_type": "code",
   "execution_count": 26,
   "metadata": {
    "collapsed": false
   },
   "outputs": [
    {
     "data": {
      "text/plain": [
       "array([2, 1, 1, 0, 0, 1, 1, 0, 0, 0, 2, 0, 2, 2, 2, 2, 1, 1, 2, 1, 2, 1, 1,\n",
       "       0, 2, 2, 1, 0, 0, 2, 1, 1, 2, 1, 0, 0, 2, 2])"
      ]
     },
     "execution_count": 26,
     "metadata": {},
     "output_type": "execute_result"
    }
   ],
   "source": [
    "# Let's compare the predictions to the actual labels. Output the real labels.\n",
    "\n",
    "iris_labels_test"
   ]
  },
  {
   "cell_type": "code",
   "execution_count": 27,
   "metadata": {
    "collapsed": false
   },
   "outputs": [
    {
     "data": {
      "text/plain": [
       "array([ 0.98039216,  0.98039216,  1.        ])"
      ]
     },
     "execution_count": 27,
     "metadata": {},
     "output_type": "execute_result"
    }
   ],
   "source": [
    "# Let's score our model using cross-validation to see how good it is.\n",
    "\n",
    "cross_val_score(knn_iris, iris_data, iris_labels)"
   ]
  },
  {
   "cell_type": "markdown",
   "metadata": {},
   "source": [
    "## Decision trees\n",
    "\n",
    "Decision trees are predictive models that learn simple decision rules based on the features within a dataset. They map observations about an item to conclusions about the item's target value. Leaves represent class labels and branches represent conjunctions of features that lead to those class labels. Decision trees in machine learning are made of the same decision trees that are used in game theory or decision analysis. \n",
    "\n",
    "Decision trees are great for heterogeneous data, having the ability to handle both categorical and continuous data; however, they are fairly simple in nature and can lack the ability to capture rich relationships within a dataset.\n",
    "\n",
    "### Classifying in scikit-learn: decision trees\n",
    "\n",
    "We're going to basically do the same thing we just did, but with a different classifier."
   ]
  },
  {
   "cell_type": "code",
   "execution_count": 28,
   "metadata": {
    "collapsed": false
   },
   "outputs": [
    {
     "data": {
      "text/plain": [
       "array([2, 1, 1, 2, 2, 2, 2, 3, 1, 2, 1, 1, 1, 2, 3, 1, 3, 1, 2, 1, 2, 1, 1,\n",
       "       3, 2, 3, 1, 2, 2, 2, 3, 1, 2, 2, 3, 2, 3, 1, 1, 1, 1, 3, 1, 2, 2])"
      ]
     },
     "execution_count": 28,
     "metadata": {},
     "output_type": "execute_result"
    }
   ],
   "source": [
    "from sklearn.tree import DecisionTreeClassifier\n",
    "\n",
    "tree = DecisionTreeClassifier()\n",
    "tree.fit(wine_data_train, wine_labels_train)\n",
    "tree.predict(wine_data_test)"
   ]
  },
  {
   "cell_type": "markdown",
   "metadata": {},
   "source": [
    "Let's look at the real labels."
   ]
  },
  {
   "cell_type": "code",
   "execution_count": 30,
   "metadata": {
    "collapsed": false
   },
   "outputs": [
    {
     "data": {
      "text/plain": [
       "78     2\n",
       "2      1\n",
       "7      1\n",
       "112    2\n",
       "97     2\n",
       "136    3\n",
       "96     2\n",
       "172    3\n",
       "56     1\n",
       "110    2\n",
       "35     1\n",
       "57     1\n",
       "26     1\n",
       "129    2\n",
       "146    3\n",
       "34     1\n",
       "159    3\n",
       "3      1\n",
       "126    2\n",
       "11     1\n",
       "115    2\n",
       "48     1\n",
       "53     1\n",
       "151    3\n",
       "88     2\n",
       "168    3\n",
       "14     1\n",
       "43     1\n",
       "108    2\n",
       "60     2\n",
       "173    3\n",
       "10     1\n",
       "82     2\n",
       "32     1\n",
       "134    3\n",
       "68     2\n",
       "138    3\n",
       "9      1\n",
       "21     1\n",
       "19     1\n",
       "52     1\n",
       "163    3\n",
       "40     1\n",
       "90     2\n",
       "87     2\n",
       "Name: wine_type, dtype: int64"
      ]
     },
     "execution_count": 30,
     "metadata": {},
     "output_type": "execute_result"
    }
   ],
   "source": [
    "wine_labels_test"
   ]
  },
  {
   "cell_type": "markdown",
   "metadata": {},
   "source": [
    "And let's cross-validate again. Let's only run it four times."
   ]
  },
  {
   "cell_type": "code",
   "execution_count": 31,
   "metadata": {
    "collapsed": false
   },
   "outputs": [
    {
     "data": {
      "text/plain": [
       "array([ 0.95555556,  0.86666667,  0.88888889,  0.88372093])"
      ]
     },
     "execution_count": 31,
     "metadata": {},
     "output_type": "execute_result"
    }
   ],
   "source": [
    "cross_val_score(tree, wine_data, wine_labels, cv=4)"
   ]
  },
  {
   "cell_type": "markdown",
   "metadata": {},
   "source": [
    "This model is a much better fit for our dataset, and is much more accurate than k-nearest neighbors.\n",
    "\n",
    "## Lesson: classification with decision trees!"
   ]
  },
  {
   "cell_type": "code",
   "execution_count": 32,
   "metadata": {
    "collapsed": true
   },
   "outputs": [],
   "source": [
    "# We're going to be using scikit-learn's built in datasets for this.\n",
    "\n",
    "from sklearn.datasets import load_digits\n",
    "\n",
    "digits = load_digits()\n",
    "digits_data = digits.data\n",
    "digits_labels = digits.target\n",
    "\n",
    "# Once again, split the data into training and test sets.\n",
    "d_train, d_test, dl_train, dl_test = train_test_split(digits_data, digits_labels)"
   ]
  },
  {
   "cell_type": "code",
   "execution_count": 33,
   "metadata": {
    "collapsed": false
   },
   "outputs": [
    {
     "data": {
      "text/plain": [
       "DecisionTreeClassifier(class_weight=None, criterion='gini', max_depth=None,\n",
       "            max_features=None, max_leaf_nodes=None, min_samples_leaf=1,\n",
       "            min_samples_split=2, min_weight_fraction_leaf=0.0,\n",
       "            random_state=None, splitter='best')"
      ]
     },
     "execution_count": 33,
     "metadata": {},
     "output_type": "execute_result"
    }
   ],
   "source": [
    "# Fit the model to our data.\n",
    "tree.fit(d_train, dl_train)"
   ]
  },
  {
   "cell_type": "code",
   "execution_count": 34,
   "metadata": {
    "collapsed": false
   },
   "outputs": [
    {
     "data": {
      "text/plain": [
       "array([2, 1, 0, 9, 7, 5, 3, 9, 4, 3, 0, 6, 6, 1, 5, 5, 0, 1, 1, 6, 1, 9, 7,\n",
       "       4, 9, 5, 0, 0, 4, 2, 7, 9, 1, 6, 2, 1, 0, 2, 6, 4, 8, 4, 7, 6, 7, 4,\n",
       "       8, 9, 2, 5, 3, 0, 8, 0, 3, 0, 5, 8, 8, 1, 6, 0, 8, 1, 8, 0, 4, 7, 0,\n",
       "       6, 1, 3, 0, 0, 2, 0, 7, 2, 8, 3, 9, 2, 2, 7, 9, 7, 1, 6, 4, 5, 9, 3,\n",
       "       8, 7, 6, 1, 1, 7, 2, 1, 1, 6, 7, 7, 9, 0, 3, 6, 9, 4, 9, 9, 0, 1, 8,\n",
       "       8, 4, 9, 3, 6, 0, 6, 5, 5, 5, 3, 8, 3, 2, 8, 0, 1, 6, 2, 9, 8, 3, 3,\n",
       "       1, 6, 3, 1, 3, 0, 4, 5, 0, 2, 1, 4, 2, 6, 8, 2, 9, 5, 5, 7, 6, 6, 2,\n",
       "       6, 1, 4, 4, 4, 6, 6, 9, 7, 1, 3, 2, 9, 2, 3, 7, 1, 0, 8, 0, 5, 2, 5,\n",
       "       9, 4, 9, 6, 1, 2, 0, 1, 8, 5, 4, 0, 8, 5, 7, 9, 1, 7, 7, 2, 7, 5, 1,\n",
       "       5, 9, 2, 5, 9, 0, 8, 5, 3, 3, 8, 3, 7, 8, 5, 7, 0, 9, 1, 6, 5, 0, 6,\n",
       "       8, 6, 4, 0, 2, 7, 8, 8, 9, 8, 8, 0, 5, 4, 1, 0, 9, 7, 8, 2, 1, 9, 0,\n",
       "       4, 5, 1, 0, 8, 3, 7, 3, 7, 9, 5, 3, 8, 4, 2, 4, 9, 9, 4, 2, 9, 2, 0,\n",
       "       6, 4, 3, 5, 6, 8, 1, 7, 7, 5, 5, 2, 3, 0, 5, 6, 4, 9, 2, 1, 4, 3, 7,\n",
       "       3, 6, 6, 4, 6, 1, 9, 4, 0, 3, 8, 4, 0, 1, 9, 2, 3, 5, 7, 5, 7, 3, 1,\n",
       "       7, 5, 3, 1, 1, 3, 6, 1, 5, 6, 0, 7, 4, 1, 8, 7, 7, 6, 8, 3, 9, 6, 4,\n",
       "       4, 8, 4, 8, 6, 8, 8, 9, 0, 4, 7, 3, 6, 5, 3, 6, 5, 2, 8, 8, 8, 1, 7,\n",
       "       6, 0, 9, 9, 7, 4, 1, 5, 0, 5, 6, 4, 6, 4, 7, 2, 9, 9, 8, 0, 2, 2, 3,\n",
       "       8, 4, 7, 1, 0, 4, 3, 8, 8, 0, 4, 6, 1, 4, 0, 7, 1, 2, 7, 5, 4, 2, 3,\n",
       "       3, 6, 6, 2, 3, 7, 9, 2, 2, 8, 7, 2, 0, 2, 1, 9, 3, 7, 5, 7, 4, 8, 6,\n",
       "       3, 1, 9, 0, 9, 9, 3, 0, 5, 1, 5, 2, 5])"
      ]
     },
     "execution_count": 34,
     "metadata": {},
     "output_type": "execute_result"
    }
   ],
   "source": [
    "# Predict on the test set\n",
    "tree.predict(d_test)"
   ]
  },
  {
   "cell_type": "code",
   "execution_count": 35,
   "metadata": {
    "collapsed": false
   },
   "outputs": [
    {
     "data": {
      "text/plain": [
       "array([2, 1, 0, 9, 7, 5, 3, 9, 4, 7, 2, 6, 6, 3, 5, 5, 0, 1, 1, 6, 2, 3, 7,\n",
       "       4, 9, 5, 0, 0, 4, 2, 7, 9, 1, 6, 2, 1, 0, 3, 6, 4, 3, 4, 7, 6, 7, 4,\n",
       "       8, 5, 2, 5, 3, 0, 8, 0, 3, 0, 5, 8, 8, 1, 6, 0, 8, 8, 8, 0, 4, 7, 0,\n",
       "       6, 1, 3, 0, 0, 2, 0, 7, 2, 8, 3, 9, 2, 8, 9, 9, 7, 1, 6, 4, 5, 9, 3,\n",
       "       8, 5, 6, 1, 1, 7, 2, 1, 1, 6, 7, 4, 9, 0, 3, 6, 9, 4, 5, 9, 0, 1, 8,\n",
       "       9, 6, 2, 1, 6, 0, 6, 5, 5, 5, 7, 1, 8, 2, 8, 0, 1, 5, 2, 9, 8, 3, 2,\n",
       "       1, 6, 7, 1, 3, 0, 4, 5, 0, 2, 0, 4, 2, 6, 8, 2, 9, 3, 5, 7, 6, 6, 2,\n",
       "       6, 1, 4, 4, 4, 6, 8, 4, 7, 3, 6, 2, 5, 2, 3, 7, 1, 0, 9, 0, 5, 2, 5,\n",
       "       9, 4, 7, 6, 1, 2, 0, 1, 8, 5, 4, 0, 4, 5, 7, 9, 1, 7, 7, 2, 7, 9, 1,\n",
       "       5, 9, 2, 5, 3, 0, 1, 5, 3, 3, 8, 5, 7, 8, 5, 7, 0, 9, 1, 6, 2, 0, 6,\n",
       "       8, 6, 4, 6, 2, 7, 8, 1, 9, 8, 8, 0, 4, 4, 1, 0, 9, 7, 9, 2, 1, 9, 0,\n",
       "       4, 5, 1, 0, 8, 3, 7, 3, 9, 9, 5, 5, 3, 4, 2, 4, 9, 9, 4, 2, 9, 2, 0,\n",
       "       6, 4, 3, 5, 1, 0, 1, 9, 7, 5, 5, 2, 3, 0, 5, 6, 4, 9, 2, 1, 4, 3, 7,\n",
       "       3, 6, 6, 4, 6, 1, 9, 4, 0, 3, 8, 4, 0, 1, 9, 2, 3, 5, 7, 5, 7, 9, 1,\n",
       "       7, 5, 3, 1, 1, 3, 6, 1, 5, 6, 0, 7, 4, 1, 8, 8, 7, 6, 8, 3, 8, 6, 4,\n",
       "       4, 8, 4, 8, 6, 8, 2, 1, 0, 4, 7, 1, 4, 5, 3, 6, 5, 2, 8, 8, 8, 1, 7,\n",
       "       6, 0, 9, 9, 7, 4, 2, 5, 0, 9, 6, 4, 6, 4, 7, 2, 7, 9, 9, 0, 2, 2, 3,\n",
       "       8, 4, 7, 1, 0, 7, 3, 8, 6, 0, 4, 6, 1, 4, 0, 7, 1, 2, 7, 5, 4, 2, 3,\n",
       "       3, 6, 1, 2, 3, 1, 9, 2, 2, 8, 7, 2, 0, 2, 2, 9, 3, 7, 5, 7, 4, 8, 6,\n",
       "       3, 9, 0, 0, 9, 9, 3, 0, 5, 1, 5, 2, 9])"
      ]
     },
     "execution_count": 35,
     "metadata": {},
     "output_type": "execute_result"
    }
   ],
   "source": [
    "# Look at the test set labels\n",
    "dl_test"
   ]
  },
  {
   "cell_type": "code",
   "execution_count": 36,
   "metadata": {
    "collapsed": false
   },
   "outputs": [
    {
     "data": {
      "text/plain": [
       "array([ 0.77747253,  0.72375691,  0.80222841,  0.83193277,  0.7943662 ])"
      ]
     },
     "execution_count": 36,
     "metadata": {},
     "output_type": "execute_result"
    }
   ],
   "source": [
    "# Finally, cross-validate\n",
    "cross_val_score(tree, digits_data, digits_labels, cv=5)"
   ]
  },
  {
   "cell_type": "markdown",
   "metadata": {},
   "source": [
    "## Naive Bayes\n",
    "\n",
    "The Naive Bayes classifier is a probabilistic classifier based on Bayes' Theorem, which states that the probability of *A* given the probability of *B* is equal to the probability of *B* given *A* times the probability of *A*, divided by the probability of *B*. In Naive Bayes classification, the classifier assumes that the features in your dataset are independent of each other; that is, one feature being a certain way has no effect on what values the other features take. This is a naive assumption because this doesn't always hold true in reality, but despite this naivety and oversimplified assumptions, the classifier performs decently and even quite well in certain classification situations.\n",
    "\n",
    "The Naive Bayes classifier is useful when your features are independent and your data is normally distributed. More sophisticated methods generally perform better.\n",
    "\n",
    "### Classifying in scikit-learn: Naive Bayes\n",
    "\n",
    "Just as we did the first two times, let's do it again. We're going to use the GaussianNB estimator object, because our data is for the most part normally distributed. We're also going to use the same wine training and test sets we made earlier."
   ]
  },
  {
   "cell_type": "code",
   "execution_count": 37,
   "metadata": {
    "collapsed": false
   },
   "outputs": [
    {
     "data": {
      "text/plain": [
       "array([2, 1, 1, 2, 2, 3, 2, 3, 1, 2, 1, 1, 1, 2, 3, 1, 3, 1, 2, 1, 2, 1, 1,\n",
       "       3, 2, 3, 1, 2, 2, 2, 3, 1, 2, 1, 3, 2, 3, 1, 1, 1, 1, 3, 1, 2, 2])"
      ]
     },
     "execution_count": 37,
     "metadata": {},
     "output_type": "execute_result"
    }
   ],
   "source": [
    "from sklearn.naive_bayes import GaussianNB\n",
    "\n",
    "gnb = GaussianNB()\n",
    "gnb.fit(wine_data_train, wine_labels_train)\n",
    "gnb.predict(wine_data_test)"
   ]
  },
  {
   "cell_type": "markdown",
   "metadata": {},
   "source": [
    "Well, that was easy! Let's look at the real test labels again."
   ]
  },
  {
   "cell_type": "code",
   "execution_count": 38,
   "metadata": {
    "collapsed": false
   },
   "outputs": [
    {
     "data": {
      "text/plain": [
       "78     2\n",
       "2      1\n",
       "7      1\n",
       "112    2\n",
       "97     2\n",
       "136    3\n",
       "96     2\n",
       "172    3\n",
       "56     1\n",
       "110    2\n",
       "35     1\n",
       "57     1\n",
       "26     1\n",
       "129    2\n",
       "146    3\n",
       "34     1\n",
       "159    3\n",
       "3      1\n",
       "126    2\n",
       "11     1\n",
       "115    2\n",
       "48     1\n",
       "53     1\n",
       "151    3\n",
       "88     2\n",
       "168    3\n",
       "14     1\n",
       "43     1\n",
       "108    2\n",
       "60     2\n",
       "173    3\n",
       "10     1\n",
       "82     2\n",
       "32     1\n",
       "134    3\n",
       "68     2\n",
       "138    3\n",
       "9      1\n",
       "21     1\n",
       "19     1\n",
       "52     1\n",
       "163    3\n",
       "40     1\n",
       "90     2\n",
       "87     2\n",
       "Name: wine_type, dtype: int64"
      ]
     },
     "execution_count": 38,
     "metadata": {},
     "output_type": "execute_result"
    }
   ],
   "source": [
    "wine_labels_test"
   ]
  },
  {
   "cell_type": "markdown",
   "metadata": {},
   "source": [
    "And of course, let's cross-validate to see how well we did. Let's only run it four times."
   ]
  },
  {
   "cell_type": "code",
   "execution_count": 39,
   "metadata": {
    "collapsed": false
   },
   "outputs": [
    {
     "data": {
      "text/plain": [
       "array([ 0.91111111,  0.95555556,  0.97777778,  1.        ])"
      ]
     },
     "execution_count": 39,
     "metadata": {},
     "output_type": "execute_result"
    }
   ],
   "source": [
    "cross_val_score(gnb, wine_data, wine_labels, cv=4)"
   ]
  },
  {
   "cell_type": "markdown",
   "metadata": {},
   "source": [
    "Wow! This classifier does much better on this dataset."
   ]
  },
  {
   "cell_type": "markdown",
   "metadata": {},
   "source": [
    "## Lesson: classification with Naive Bayes!"
   ]
  },
  {
   "cell_type": "code",
   "execution_count": 40,
   "metadata": {
    "collapsed": false
   },
   "outputs": [
    {
     "data": {
      "text/plain": [
       "GaussianNB()"
      ]
     },
     "execution_count": 40,
     "metadata": {},
     "output_type": "execute_result"
    }
   ],
   "source": [
    "# Let's use our digits dataset from above. Use the training and test sets you created for this example.\n",
    "# Fit the model to the data.\n",
    "gnb.fit(d_train, dl_train)"
   ]
  },
  {
   "cell_type": "code",
   "execution_count": 41,
   "metadata": {
    "collapsed": false
   },
   "outputs": [
    {
     "data": {
      "text/plain": [
       "array([8, 1, 0, 8, 7, 5, 3, 9, 4, 7, 1, 6, 6, 3, 5, 5, 0, 1, 1, 6, 1, 3, 7,\n",
       "       4, 9, 5, 0, 0, 4, 8, 7, 9, 1, 6, 8, 1, 0, 3, 6, 7, 3, 4, 7, 6, 7, 4,\n",
       "       8, 5, 8, 5, 3, 0, 8, 0, 3, 0, 5, 7, 1, 1, 6, 0, 8, 1, 8, 0, 4, 7, 0,\n",
       "       6, 1, 2, 0, 0, 2, 0, 7, 8, 1, 3, 9, 2, 8, 7, 7, 7, 1, 6, 7, 5, 9, 7,\n",
       "       8, 5, 6, 1, 1, 7, 2, 1, 1, 6, 7, 4, 9, 0, 3, 6, 9, 7, 5, 9, 0, 1, 8,\n",
       "       7, 4, 1, 8, 6, 0, 6, 5, 7, 5, 7, 8, 8, 2, 8, 0, 1, 6, 2, 8, 8, 3, 1,\n",
       "       1, 6, 7, 1, 3, 0, 4, 5, 0, 8, 4, 4, 8, 6, 8, 2, 9, 3, 5, 7, 6, 6, 2,\n",
       "       6, 1, 4, 4, 4, 6, 7, 4, 7, 8, 6, 8, 3, 8, 3, 7, 1, 0, 8, 0, 5, 2, 5,\n",
       "       3, 1, 7, 6, 1, 2, 0, 1, 8, 5, 4, 0, 7, 5, 7, 9, 1, 7, 7, 2, 7, 9, 1,\n",
       "       5, 2, 2, 5, 3, 0, 1, 5, 3, 3, 8, 5, 7, 8, 5, 7, 0, 9, 1, 6, 2, 0, 6,\n",
       "       8, 6, 4, 6, 2, 7, 8, 8, 9, 8, 8, 0, 4, 4, 1, 0, 3, 7, 8, 2, 1, 9, 0,\n",
       "       8, 5, 1, 0, 8, 3, 7, 3, 7, 1, 5, 3, 3, 4, 2, 4, 9, 8, 4, 1, 3, 2, 0,\n",
       "       6, 7, 8, 5, 1, 8, 8, 7, 7, 5, 5, 2, 3, 0, 5, 6, 7, 4, 2, 1, 4, 3, 7,\n",
       "       3, 6, 6, 6, 6, 7, 9, 4, 0, 2, 8, 4, 0, 1, 9, 2, 8, 5, 7, 5, 7, 7, 1,\n",
       "       7, 5, 3, 1, 1, 3, 6, 1, 5, 6, 0, 7, 1, 8, 8, 7, 7, 6, 8, 3, 8, 6, 4,\n",
       "       4, 8, 4, 8, 6, 7, 8, 1, 0, 7, 7, 1, 4, 5, 3, 6, 5, 2, 8, 8, 8, 1, 7,\n",
       "       6, 0, 9, 9, 7, 7, 2, 5, 0, 1, 6, 4, 6, 4, 7, 2, 7, 3, 9, 0, 2, 8, 3,\n",
       "       8, 4, 7, 1, 0, 7, 3, 8, 6, 0, 4, 6, 1, 4, 0, 7, 9, 2, 7, 5, 4, 8, 3,\n",
       "       3, 6, 1, 2, 3, 7, 9, 8, 2, 8, 7, 8, 0, 2, 1, 9, 3, 7, 5, 7, 4, 8, 6,\n",
       "       3, 1, 4, 0, 9, 9, 3, 0, 8, 1, 5, 2, 3])"
      ]
     },
     "execution_count": 41,
     "metadata": {},
     "output_type": "execute_result"
    }
   ],
   "source": [
    "# Predict on the test set\n",
    "gnb.predict(d_test)"
   ]
  },
  {
   "cell_type": "code",
   "execution_count": 42,
   "metadata": {
    "collapsed": false
   },
   "outputs": [
    {
     "data": {
      "text/plain": [
       "array([2, 1, 0, 9, 7, 5, 3, 9, 4, 7, 2, 6, 6, 3, 5, 5, 0, 1, 1, 6, 2, 3, 7,\n",
       "       4, 9, 5, 0, 0, 4, 2, 7, 9, 1, 6, 2, 1, 0, 3, 6, 4, 3, 4, 7, 6, 7, 4,\n",
       "       8, 5, 2, 5, 3, 0, 8, 0, 3, 0, 5, 8, 8, 1, 6, 0, 8, 8, 8, 0, 4, 7, 0,\n",
       "       6, 1, 3, 0, 0, 2, 0, 7, 2, 8, 3, 9, 2, 8, 9, 9, 7, 1, 6, 4, 5, 9, 3,\n",
       "       8, 5, 6, 1, 1, 7, 2, 1, 1, 6, 7, 4, 9, 0, 3, 6, 9, 4, 5, 9, 0, 1, 8,\n",
       "       9, 6, 2, 1, 6, 0, 6, 5, 5, 5, 7, 1, 8, 2, 8, 0, 1, 5, 2, 9, 8, 3, 2,\n",
       "       1, 6, 7, 1, 3, 0, 4, 5, 0, 2, 0, 4, 2, 6, 8, 2, 9, 3, 5, 7, 6, 6, 2,\n",
       "       6, 1, 4, 4, 4, 6, 8, 4, 7, 3, 6, 2, 5, 2, 3, 7, 1, 0, 9, 0, 5, 2, 5,\n",
       "       9, 4, 7, 6, 1, 2, 0, 1, 8, 5, 4, 0, 4, 5, 7, 9, 1, 7, 7, 2, 7, 9, 1,\n",
       "       5, 9, 2, 5, 3, 0, 1, 5, 3, 3, 8, 5, 7, 8, 5, 7, 0, 9, 1, 6, 2, 0, 6,\n",
       "       8, 6, 4, 6, 2, 7, 8, 1, 9, 8, 8, 0, 4, 4, 1, 0, 9, 7, 9, 2, 1, 9, 0,\n",
       "       4, 5, 1, 0, 8, 3, 7, 3, 9, 9, 5, 5, 3, 4, 2, 4, 9, 9, 4, 2, 9, 2, 0,\n",
       "       6, 4, 3, 5, 1, 0, 1, 9, 7, 5, 5, 2, 3, 0, 5, 6, 4, 9, 2, 1, 4, 3, 7,\n",
       "       3, 6, 6, 4, 6, 1, 9, 4, 0, 3, 8, 4, 0, 1, 9, 2, 3, 5, 7, 5, 7, 9, 1,\n",
       "       7, 5, 3, 1, 1, 3, 6, 1, 5, 6, 0, 7, 4, 1, 8, 8, 7, 6, 8, 3, 8, 6, 4,\n",
       "       4, 8, 4, 8, 6, 8, 2, 1, 0, 4, 7, 1, 4, 5, 3, 6, 5, 2, 8, 8, 8, 1, 7,\n",
       "       6, 0, 9, 9, 7, 4, 2, 5, 0, 9, 6, 4, 6, 4, 7, 2, 7, 9, 9, 0, 2, 2, 3,\n",
       "       8, 4, 7, 1, 0, 7, 3, 8, 6, 0, 4, 6, 1, 4, 0, 7, 1, 2, 7, 5, 4, 2, 3,\n",
       "       3, 6, 1, 2, 3, 1, 9, 2, 2, 8, 7, 2, 0, 2, 2, 9, 3, 7, 5, 7, 4, 8, 6,\n",
       "       3, 9, 0, 0, 9, 9, 3, 0, 5, 1, 5, 2, 9])"
      ]
     },
     "execution_count": 42,
     "metadata": {},
     "output_type": "execute_result"
    }
   ],
   "source": [
    "# Look at the test set labels\n",
    "dl_test"
   ]
  },
  {
   "cell_type": "code",
   "execution_count": 43,
   "metadata": {
    "collapsed": false
   },
   "outputs": [
    {
     "data": {
      "text/plain": [
       "array([ 0.77197802,  0.75690608,  0.77437326,  0.83473389,  0.78873239])"
      ]
     },
     "execution_count": 43,
     "metadata": {},
     "output_type": "execute_result"
    }
   ],
   "source": [
    "# Finally, cross-validate\n",
    "cross_val_score(gnb, digits_data, digits_labels, cv=5)"
   ]
  },
  {
   "cell_type": "markdown",
   "metadata": {},
   "source": [
    "## Linear regression\n",
    "\n",
    "Linear regression is used when the target value is expected to be a linear combination of the input variables. The goal of linear regression, in creating a linear model, is to minimize the sum of squared residuals between the observed data and the responses predicted by linear approximation. Linear regression can be used to represent the relationship between variables like temperature and elevation, or something like housing prices and square footage.\n",
    "\n",
    "Linear regression is appropriate when your data is continuous and linear.\n",
    "\n",
    "### Linear regression in scikit-learn\n",
    "\n",
    "Let's try this on subset of our wine data, since those values are continuous other than `wine_type`. Let's see what the relationship is between magnesium and abv. First, let's subset the data."
   ]
  },
  {
   "cell_type": "code",
   "execution_count": 44,
   "metadata": {
    "collapsed": false
   },
   "outputs": [
    {
     "data": {
      "text/html": [
       "<div style=\"max-height:1000px;max-width:1500px;overflow:auto;\">\n",
       "<table border=\"1\" class=\"dataframe\">\n",
       "  <thead>\n",
       "    <tr style=\"text-align: right;\">\n",
       "      <th></th>\n",
       "      <th>magnesium</th>\n",
       "      <th>color</th>\n",
       "    </tr>\n",
       "  </thead>\n",
       "  <tbody>\n",
       "    <tr>\n",
       "      <th>0</th>\n",
       "      <td>127</td>\n",
       "      <td>5.64</td>\n",
       "    </tr>\n",
       "    <tr>\n",
       "      <th>1</th>\n",
       "      <td>100</td>\n",
       "      <td>4.38</td>\n",
       "    </tr>\n",
       "    <tr>\n",
       "      <th>2</th>\n",
       "      <td>101</td>\n",
       "      <td>5.68</td>\n",
       "    </tr>\n",
       "    <tr>\n",
       "      <th>3</th>\n",
       "      <td>113</td>\n",
       "      <td>7.80</td>\n",
       "    </tr>\n",
       "    <tr>\n",
       "      <th>4</th>\n",
       "      <td>118</td>\n",
       "      <td>4.32</td>\n",
       "    </tr>\n",
       "  </tbody>\n",
       "</table>\n",
       "</div>"
      ],
      "text/plain": [
       "   magnesium  color\n",
       "0        127   5.64\n",
       "1        100   4.38\n",
       "2        101   5.68\n",
       "3        113   7.80\n",
       "4        118   4.32"
      ]
     },
     "execution_count": 44,
     "metadata": {},
     "output_type": "execute_result"
    }
   ],
   "source": [
    "wine_data_mag = wine_data.loc[:, ['magnesium', 'color']]\n",
    "wine_data_abv = wine_data.loc[:, 'abv']\n",
    "wine_data_mag.head()"
   ]
  },
  {
   "cell_type": "markdown",
   "metadata": {},
   "source": [
    "And, as always, let's split up the data. Our target values are going to be the continuous abv values."
   ]
  },
  {
   "cell_type": "code",
   "execution_count": 45,
   "metadata": {
    "collapsed": false
   },
   "outputs": [],
   "source": [
    "wine_mag_train, wine_mag_test, wine_abv_train, wine_abv_test = train_test_split(wine_data_mag, wine_data_abv)"
   ]
  },
  {
   "cell_type": "markdown",
   "metadata": {},
   "source": [
    "Then, we fit the model to our data."
   ]
  },
  {
   "cell_type": "code",
   "execution_count": 46,
   "metadata": {
    "collapsed": false
   },
   "outputs": [
    {
     "data": {
      "text/plain": [
       "LinearRegression(copy_X=True, fit_intercept=True, n_jobs=1, normalize=False)"
      ]
     },
     "execution_count": 46,
     "metadata": {},
     "output_type": "execute_result"
    }
   ],
   "source": [
    "from sklearn.linear_model import LinearRegression\n",
    "\n",
    "lr = LinearRegression()\n",
    "lr.fit(wine_mag_train, wine_abv_train)"
   ]
  },
  {
   "cell_type": "markdown",
   "metadata": {},
   "source": [
    "And finally, we predict."
   ]
  },
  {
   "cell_type": "code",
   "execution_count": 47,
   "metadata": {
    "collapsed": false
   },
   "outputs": [
    {
     "data": {
      "text/plain": [
       "array([ 12.71684835,  13.48796901,  12.2146406 ,  12.83925243,\n",
       "        13.49975825,  13.46519272,  13.12741254,  13.47963888,\n",
       "        12.56159483,  13.47352285,  12.4060923 ,  13.30086206,\n",
       "        14.11258084,  13.52989559,  13.5145638 ,  13.02932049,\n",
       "        13.50108671,  13.57013434,  13.0245881 ,  12.54299773,\n",
       "        12.41482353,  12.24566358,  13.62650709,  13.80153407,\n",
       "        13.35377569,  13.63873915,  13.26492635,  12.49575731,\n",
       "        13.53822572,  12.32600244,  12.90484094,  13.12845027,\n",
       "        12.86242982,  12.76680087,  14.06838497,  14.28568445,\n",
       "        14.19088596,  12.80344188,  12.69499942,  12.77764929,\n",
       "        12.78376532,  12.47079518,  13.52560603,  12.94696134,  12.30292196])"
      ]
     },
     "execution_count": 47,
     "metadata": {},
     "output_type": "execute_result"
    }
   ],
   "source": [
    "lr.predict(wine_mag_test)"
   ]
  },
  {
   "cell_type": "markdown",
   "metadata": {},
   "source": [
    "Let's compare those predictions to the actual abv values."
   ]
  },
  {
   "cell_type": "code",
   "execution_count": 48,
   "metadata": {
    "collapsed": false
   },
   "outputs": [
    {
     "data": {
      "text/plain": [
       "110    11.46\n",
       "173    13.71\n",
       "82     12.08\n",
       "112    11.76\n",
       "174    13.40\n",
       "121    11.56\n",
       "42     13.88\n",
       "58     13.72\n",
       "85     12.67\n",
       "31     13.58\n",
       "88     11.64\n",
       "48     14.10\n",
       "176    13.17\n",
       "17     13.83\n",
       "33     13.76\n",
       "139    12.84\n",
       "155    13.17\n",
       "154    12.58\n",
       "28     13.87\n",
       "71     13.86\n",
       "86     12.16\n",
       "115    11.03\n",
       "15     13.63\n",
       "144    12.25\n",
       "50     13.05\n",
       "152    13.11\n",
       "69     12.21\n",
       "122    12.42\n",
       "14     14.38\n",
       "128    12.37\n",
       "26     13.39\n",
       "44     13.05\n",
       "37     13.05\n",
       "41     13.41\n",
       "153    13.23\n",
       "175    13.27\n",
       "159    13.48\n",
       "83     13.05\n",
       "70     12.29\n",
       "76     13.03\n",
       "98     12.37\n",
       "118    12.77\n",
       "56     14.22\n",
       "43     13.24\n",
       "111    12.52\n",
       "Name: abv, dtype: float64"
      ]
     },
     "execution_count": 48,
     "metadata": {},
     "output_type": "execute_result"
    }
   ],
   "source": [
    "wine_abv_test"
   ]
  },
  {
   "cell_type": "markdown",
   "metadata": {},
   "source": [
    "We can check the accuracy of our linear regression model by using the `score()` function. The `score()` function returns the R^2 coefficient, which is a measure of how far away from the actual values are predictions were. The closer to 1, the better the regression model"
   ]
  },
  {
   "cell_type": "code",
   "execution_count": 49,
   "metadata": {
    "collapsed": false
   },
   "outputs": [
    {
     "data": {
      "text/plain": [
       "0.15722257898752134"
      ]
     },
     "execution_count": 49,
     "metadata": {},
     "output_type": "execute_result"
    }
   ],
   "source": [
    "lr.score(wine_mag_test, wine_abv_test)"
   ]
  },
  {
   "cell_type": "markdown",
   "metadata": {},
   "source": [
    "So our score is rather low.\n",
    "\n",
    "## Lesson: linear regression!"
   ]
  },
  {
   "cell_type": "code",
   "execution_count": 50,
   "metadata": {
    "collapsed": false
   },
   "outputs": [],
   "source": [
    "# We're going to be using scikit-learn's built in datasets for this.\n",
    "\n",
    "from sklearn.datasets import load_boston\n",
    "\n",
    "boston = load_boston()\n",
    "boston_data = boston.data\n",
    "boston_target = boston.target\n",
    "\n",
    "# Once again, split the data into training and test sets.\n",
    "b_train, b_test, bl_train, bl_test = train_test_split(boston_data, boston_target)"
   ]
  },
  {
   "cell_type": "code",
   "execution_count": 53,
   "metadata": {
    "collapsed": false
   },
   "outputs": [
    {
     "data": {
      "text/plain": [
       "LinearRegression(copy_X=True, fit_intercept=True, n_jobs=1, normalize=False)"
      ]
     },
     "execution_count": 53,
     "metadata": {},
     "output_type": "execute_result"
    }
   ],
   "source": [
    "# Create a new linear regression model and fit the model to our data.\n",
    "lreg = LinearRegression()\n",
    "lreg.fit(b_train, bl_train)"
   ]
  },
  {
   "cell_type": "code",
   "execution_count": 54,
   "metadata": {
    "collapsed": false
   },
   "outputs": [
    {
     "data": {
      "text/plain": [
       "array([ 12.12945555,  16.89009822,  22.07186993,  13.8197517 ,\n",
       "        20.57832952,  32.40789571,  22.46395145,  12.94281574,\n",
       "        22.08032495,  20.70380003,  32.47777645,  32.87146144,\n",
       "        20.53592178,  25.4697823 ,  17.26110591,  21.85889867,\n",
       "        21.95698315,  19.68449607,  28.85349022,  11.79633168,\n",
       "        28.89128697,  18.69379504,  17.86043437,  21.21619398,\n",
       "        33.16584725,  17.35855651,  24.30174312,  30.44599034,\n",
       "        24.60977976,  12.90796123,  20.47752447,  22.9903373 ,\n",
       "        34.6883455 ,  21.44693721,  16.56599949,   9.16045651,\n",
       "        37.93462007,   9.004163  ,  34.72752104,  30.33831974,\n",
       "        21.14240097,  19.00520297,  19.51555835,  44.16826414,\n",
       "        25.53290643,  31.00054294,  24.80407835,  18.3374389 ,\n",
       "        26.76651975,  21.84246977,  13.88188067,  19.65817793,\n",
       "        24.99516951,  33.47986736,  33.72598695,  37.87920891,\n",
       "        30.10368693,  15.19035451,  20.75723926,  28.51091541,\n",
       "        21.3125053 ,  18.98929201,  16.80573867,  30.44978067,\n",
       "        21.52153765,  17.43546317,  21.50318724,  25.10191546,\n",
       "        23.41288704,  27.06643561,  29.87114936,   9.55343536,\n",
       "        22.62684553,  23.70028947,  26.4739381 ,  19.49086037,\n",
       "        23.91566871,   7.0417914 ,  17.41420505,  16.52362189,\n",
       "        26.91618758,  20.23202756,  11.20645826,  12.72442268,\n",
       "        29.65858592,  41.11708949,  15.1746786 ,  37.1230548 ,\n",
       "        22.55698288,  15.10154996,  24.49039842,  19.00755939,\n",
       "        22.32920392,   9.07924038,  25.08926722,  19.99320359,\n",
       "        19.59332991,  32.55010827,  24.63121298,  15.95322508,\n",
       "        19.35365359,  28.34192094,  13.26135216,  18.61951858,\n",
       "        17.75283284,  17.15048733,  25.08744829,  25.43235262,\n",
       "         7.60255512,  21.8367416 ,  12.35353537,  30.07377942,\n",
       "        22.82738497,  22.97378522,  35.50403359,  25.5845021 ,\n",
       "        15.06074573,  17.99854125,  26.69012852,  24.29784195,\n",
       "        23.47371851,  20.83185269,  12.66398453,  23.51114669,\n",
       "        36.82839307,  24.64365952,  45.12487447])"
      ]
     },
     "execution_count": 54,
     "metadata": {},
     "output_type": "execute_result"
    }
   ],
   "source": [
    "# Predict on the test set.\n",
    "lreg.predict(b_test)"
   ]
  },
  {
   "cell_type": "code",
   "execution_count": 56,
   "metadata": {
    "collapsed": false
   },
   "outputs": [
    {
     "data": {
      "text/plain": [
       "0.66858928612848034"
      ]
     },
     "execution_count": 56,
     "metadata": {},
     "output_type": "execute_result"
    }
   ],
   "source": [
    "# Score the model!\n",
    "lreg.score(b_test, bl_test)"
   ]
  },
  {
   "cell_type": "markdown",
   "metadata": {},
   "source": [
    "# For those using IPython Notebook/Wakari/NBViewer: Go to the [data_analysis](data_analysis.ipynb) notebook!\n",
    "\n",
    "# For those using code files, go to data_analysis.py!"
   ]
  }
 ],
 "metadata": {
  "kernelspec": {
   "display_name": "Python 2",
   "language": "python",
   "name": "python2"
  },
  "language_info": {
   "codemirror_mode": {
    "name": "ipython",
    "version": 2
   },
   "file_extension": ".py",
   "mimetype": "text/x-python",
   "name": "python",
   "nbconvert_exporter": "python",
   "pygments_lexer": "ipython2",
   "version": "2.7.9"
  }
 },
 "nbformat": 4,
 "nbformat_minor": 0
}
